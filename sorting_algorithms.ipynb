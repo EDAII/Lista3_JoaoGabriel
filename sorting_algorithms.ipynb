{
 "cells": [
  {
   "cell_type": "markdown",
   "metadata": {},
   "source": [
    "# Sorting n * log(n) algorithms"
   ]
  },
  {
   "cell_type": "markdown",
   "metadata": {},
   "source": [
    "## Importing libraries and classes"
   ]
  },
  {
   "cell_type": "code",
   "execution_count": 2,
   "metadata": {},
   "outputs": [],
   "source": [
    "import matplotlib.pyplot as plt\n",
    "import random\n",
    "import time\n",
    "from itertools import chain"
   ]
  },
  {
   "cell_type": "markdown",
   "metadata": {},
   "source": [
    "## Algorithms"
   ]
  },
  {
   "cell_type": "markdown",
   "metadata": {},
   "source": [
    "**Quick sort**"
   ]
  },
  {
   "cell_type": "code",
   "execution_count": 3,
   "metadata": {},
   "outputs": [],
   "source": [
    "def quicksort(vec):\n",
    "    less = []\n",
    "    eq = []\n",
    "    greater = []\n",
    "    \n",
    "    if len(vec) > 1:\n",
    "        pvt = vec[0]\n",
    "        for i in vec:\n",
    "            if i < pvt:\n",
    "                less.append(i)\n",
    "            elif i == pvt:\n",
    "                eq.append(i)\n",
    "            else:\n",
    "                greater.append(i)\n",
    "        \n",
    "        return quicksort(less) + eq + quicksort(greater)\n",
    "    \n",
    "    else:\n",
    "        return vec"
   ]
  },
  {
   "cell_type": "markdown",
   "metadata": {},
   "source": [
    "**Merge sort**"
   ]
  },
  {
   "cell_type": "code",
   "execution_count": 4,
   "metadata": {},
   "outputs": [],
   "source": [
    "def mergesort(vec):\n",
    "    if len(vec) > 1:\n",
    "        m = len(vec)//2 # integer only\n",
    "        left = vec[:m]\n",
    "        right = vec[m:]\n",
    "        \n",
    "        mergesort(left)\n",
    "        mergesort(right)\n",
    "        \n",
    "        i = x = y = 0\n",
    "        \n",
    "        while i < len(left) and x < len(right):\n",
    "            if left[i] < right[x]:\n",
    "                vec[y] = left[i]\n",
    "                i += 1\n",
    "                \n",
    "            else:\n",
    "                vec[y] = right[x]\n",
    "                x += 1\n",
    "            y += 1\n",
    "            \n",
    "        while i < len(left): \n",
    "            vec[y] = left[i] \n",
    "            i += 1\n",
    "            y += 1\n",
    "          \n",
    "        while x < len(right): \n",
    "            vec[y] = right[x] \n",
    "            x += 1\n",
    "            y += 1\n",
    "        return vec\n",
    "    else:\n",
    "        return vec\n"
   ]
  },
  {
   "cell_type": "markdown",
   "metadata": {},
   "source": [
    "**Bucket**"
   ]
  },
  {
   "cell_type": "code",
   "execution_count": 80,
   "metadata": {},
   "outputs": [],
   "source": [
    "def bucket_sort(vec):\n",
    "\n",
    "    buckets = [[] for _ in range(1001)]\n",
    "    for i in range(len(vec)):\n",
    "        bucket = vec[i]\n",
    "        if bucket >= 0 and bucket < 1001:\n",
    "            buckets[bucket].append(vec[i])\n",
    "#     print(buckets)\n",
    "    return buckets\n",
    "# v = [1,1,1,1,1,1,1,2,2,2,2,2,100]\n",
    "# bucket_sort(v)"
   ]
  },
  {
   "cell_type": "markdown",
   "metadata": {},
   "source": [
    "**Bucket quick**"
   ]
  },
  {
   "cell_type": "code",
   "execution_count": 81,
   "metadata": {},
   "outputs": [],
   "source": [
    "def bucket_quick(vec):\n",
    "    buckets = bucket_sort(vec)\n",
    "    \n",
    "    for i in range(len(buckets)):\n",
    "        quicksort(buckets[i])\n",
    "\n",
    "    return list(chain(*buckets))"
   ]
  },
  {
   "cell_type": "markdown",
   "metadata": {},
   "source": [
    "**Bucket merge**"
   ]
  },
  {
   "cell_type": "code",
   "execution_count": 82,
   "metadata": {},
   "outputs": [],
   "source": [
    "def bucket_merge(vec):\n",
    "    buckets = bucket_sort(vec)\n",
    "    \n",
    "    for i in range(len(buckets)):\n",
    "        mergesort(buckets[i])\n",
    "        \n",
    "    return list(chain(*buckets))"
   ]
  },
  {
   "cell_type": "markdown",
   "metadata": {},
   "source": [
    "## Creating vector to sort"
   ]
  },
  {
   "cell_type": "code",
   "execution_count": 83,
   "metadata": {},
   "outputs": [],
   "source": [
    "l = []\n",
    "lim = 1001\n",
    "for i in range(lim):\n",
    "    l.append(random.randint(0, lim))"
   ]
  },
  {
   "cell_type": "markdown",
   "metadata": {},
   "source": [
    "## Iterating, creating time lists and plotting time graphs"
   ]
  },
  {
   "cell_type": "code",
   "execution_count": 107,
   "metadata": {},
   "outputs": [
    {
     "name": "stdout",
     "output_type": "stream",
     "text": [
      "1000\n"
     ]
    }
   ],
   "source": [
    "q = []\n",
    "m = []\n",
    "bq = []\n",
    "bm = []\n",
    "k = w = j = l\n",
    "iter = int(input())\n",
    "\n",
    "for i in range(iter):\n",
    "    start = time.time()\n",
    "    quicksort(l)\n",
    "    end = time.time()\n",
    "    time_quick = end - start\n",
    "    q.append(time_quick)\n",
    "    \n",
    "    random.shuffle(l)\n",
    "\n",
    "    start2 = time.time()\n",
    "    mergesort(k)\n",
    "    end2 = time.time()\n",
    "    time_merge = end2 - start2\n",
    "    m.append(time_merge)\n",
    "    \n",
    "    random.shuffle(k)\n",
    "    \n",
    "    start3 = time.time()\n",
    "    bucket_quick(w)\n",
    "    end3 = time.time()\n",
    "    time_bucket_quick = end3 - start3\n",
    "    bq.append(time_bucket_quick)\n",
    "        \n",
    "    random.shuffle(w)\n",
    "    \n",
    "    start4 = time.time()\n",
    "    bucket_merge(j)\n",
    "    end4 = time.time()\n",
    "    time_bucket_merge = end4 - start4\n",
    "    bm.append(time_bucket_merge)\n",
    "            \n",
    "    random.shuffle(j)"
   ]
  },
  {
   "cell_type": "code",
   "execution_count": 108,
   "metadata": {},
   "outputs": [
    {
     "data": {
      "image/png": "[encoded data removed]",
      "text/plain": [
       "<Figure size 432x288 with 1 Axes>"
      ]
     },
     "metadata": {
      "needs_background": "light"
     },
     "output_type": "display_data"
    }
   ],
   "source": [
    "plt.title(\"Iterations x Time\")\n",
    "plt.xlabel('Iteration')\n",
    "plt.ylabel('Time')\n",
    "plt.plot(q,  color='green', label='quick')\n",
    "plt.plot(m,  color='blue', label='merge')\n",
    "plt.plot(bq,  color='red', label='bucket quick')\n",
    "plt.plot(bm,  color='yellow', label='bucket merge')\n",
    "plt.legend()\n",
    "plt.grid(True)\n",
    "plt.show()"
   ]
  },
  {
   "cell_type": "markdown",
   "metadata": {},
   "source": [
    "## Calculating mean of each time list and plotting mean graph"
   ]
  },
  {
   "cell_type": "code",
   "execution_count": 109,
   "metadata": {},
   "outputs": [],
   "source": [
    "def mean(l: list):\n",
    "    return sum(l) / len(l)"
   ]
  },
  {
   "cell_type": "code",
   "execution_count": 113,
   "metadata": {},
   "outputs": [
    {
     "name": "stdout",
     "output_type": "stream",
     "text": [
      "Quicksort mean = 0.0011928613185882568\n",
      "Mergesort mean = 0.003048693418502808\n",
      "Bucket quick mean = 0.0006753301620483398\n",
      "Bucket merge mean = 0.0008655776977539063\n",
      "\n"
     ]
    }
   ],
   "source": [
    "means= []\n",
    "q_mean = mean(q)\n",
    "m_mean = mean(m)\n",
    "bq_mean = mean(bq)\n",
    "bm_mean = mean(bm)\n",
    "print(\"Quicksort mean = {}\\nMergesort mean = {}\\nBucket quick mean = {}\\nBucket merge mean = {}\\n\"\n",
    "      .format(q_mean, m_mean, bq_mean, bm_mean))\n",
    "means = [q_mean, m_mean, bq_mean, bm_mean]"
   ]
  },
  {
   "cell_type": "code",
   "execution_count": 111,
   "metadata": {
    "scrolled": true
   },
   "outputs": [],
   "source": [
    "def plot(means):\n",
    "    plt.title(\"Algorithm x Time mean\")\n",
    "    plt.xlabel('Algorithm')\n",
    "    plt.ylabel('Time mean')\n",
    "    x = range(4)\n",
    "    colors=[\"red\", \"green\", \"blue\", \"purple\"]\n",
    "    plt.bar(x, means, color = colors)\n",
    "    plt.xticks(x, ('Quicksort', 'Mergesort', 'Bucket quick', 'Bucket merge'))\n",
    "    plt.grid(linewidth=.1)\n",
    "    plt.show()"
   ]
  },
  {
   "cell_type": "code",
   "execution_count": 112,
   "metadata": {},
   "outputs": [
    {
     "data": {
      "image/png": "[encoded data removed]",
      "text/plain": [
       "<Figure size 432x288 with 1 Axes>"
      ]
     },
     "metadata": {
      "needs_background": "light"
     },
     "output_type": "display_data"
    }
   ],
   "source": [
    "plot(means)"
   ]
  },
  {
   "cell_type": "code",
   "execution_count": null,
   "metadata": {},
   "outputs": [],
   "source": []
  }
 ],
 "metadata": {
  "kernelspec": {
   "display_name": "Python 3",
   "language": "python",
   "name": "python3"
  },
  "language_info": {
   "codemirror_mode": {
    "name": "ipython",
    "version": 3
   },
   "file_extension": ".py",
   "mimetype": "text/x-python",
   "name": "python",
   "nbconvert_exporter": "python",
   "pygments_lexer": "ipython3",
   "version": "3.6.8"
  }
 },
 "nbformat": 4,
 "nbformat_minor": 2
}
